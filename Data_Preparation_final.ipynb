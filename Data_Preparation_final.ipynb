{
  "cells": [
    {
      "cell_type": "markdown",
      "metadata": {
        "id": "view-in-github",
        "colab_type": "text"
      },
      "source": [
        "<a href=\"https://colab.research.google.com/github/saruman18/GermaParlTEI/blob/main/Data_Preparation_final.ipynb\" target=\"_parent\"><img src=\"https://colab.research.google.com/assets/colab-badge.svg\" alt=\"Open In Colab\"/></a>"
      ]
    },
    {
      "cell_type": "markdown",
      "metadata": {
        "id": "shUZK_-60dZH"
      },
      "source": [
        "# Reading in the Data"
      ]
    },
    {
      "cell_type": "code",
      "execution_count": null,
      "metadata": {
        "id": "NRmh62LBxqh9"
      },
      "outputs": [],
      "source": [
        "import glob\n",
        "import pandas as pd\n",
        "import xml.etree.ElementTree as ET\n",
        "import os"
      ]
    },
    {
      "cell_type": "code",
      "execution_count": null,
      "metadata": {
        "id": "XeEiUc_C-f5e"
      },
      "outputs": [],
      "source": [
        "class XMLParser:\n",
        "    def __init__(self, directory_paths):\n",
        "        self.directory_paths = directory_paths\n",
        "        self.data = []\n",
        "        self.speaker_map = {}\n",
        "        self.df = None\n",
        "\n",
        "    def extract_data_from_file(self, file_path):\n",
        "        tree = ET.parse(file_path)\n",
        "        root = tree.getroot()\n",
        "        legislative_period = root.find(\".//teiHeader/fileDesc/titleStmt/legislativePeriod\")\n",
        "        session_no = root.find(\".//teiHeader/fileDesc/titleStmt/sessionNo\")\n",
        "        date = root.find(\".//publicationStmt/date\")\n",
        "        legislative_period = legislative_period.text if legislative_period is not None else None\n",
        "        session_no = session_no.text if session_no is not None else None\n",
        "        date = date.text if date is not None else None\n",
        "\n",
        "        for div in root.iter('div'):\n",
        "            if div.attrib.get('type') == 'agenda_item':\n",
        "                number = div.attrib.get('n')\n",
        "                what = div.attrib.get('what')\n",
        "                description = div.attrib.get('desc')\n",
        "\n",
        "                for sp in div.findall('sp'):\n",
        "                    speaker_name = sp.attrib.get('name')\n",
        "                    party_affiliation = sp.attrib.get('party')\n",
        "                    role = sp.attrib.get('role')\n",
        "                    parliamentary_group = sp.attrib.get('parliamentary_group')\n",
        "\n",
        "                    if speaker_name not in self.speaker_map:\n",
        "                        speaker_number = len(self.speaker_map) + 1\n",
        "                        self.speaker_map[speaker_name] = speaker_number\n",
        "                    else:\n",
        "                        speaker_number = self.speaker_map[speaker_name]\n",
        "\n",
        "                    for p in sp.findall('p'):\n",
        "                        speech_text = p.text\n",
        "                        interjections_count = len(p.findall(\".//stage[@type='interjection']\"))\n",
        "\n",
        "                        row_data = {\n",
        "                            \"Number\": number,\n",
        "                            \"What\": what,\n",
        "                            \"Description\": description,\n",
        "                            \"Speaker\": speaker_name,\n",
        "                            \"SpeakerNumber\": speaker_number,\n",
        "                            \"SpeechText\": speech_text,\n",
        "                            \"Party\": party_affiliation,\n",
        "                            \"Role\": role,\n",
        "                            \"ParliamentaryGroup\": parliamentary_group,\n",
        "                            \"SessionNo\": session_no,\n",
        "                            \"LegislativePeriod\": legislative_period,\n",
        "                            \"Interjections\": interjections_count,\n",
        "                            \"Date\": date\n",
        "                        }\n",
        "\n",
        "                        self.data.append(row_data)\n",
        "\n",
        "    def process_files(self):\n",
        "        for directory_path in self.directory_paths:\n",
        "            file_list = sorted(glob.glob(os.path.join(directory_path, \"*.xml\")),\n",
        "                               key=lambda x: int(x.split(\"_\")[2].split(\".\")[0]))\n",
        "            for file_path in file_list:\n",
        "                self.extract_data_from_file(file_path)\n",
        "\n",
        "    def parse_xml_files(self):\n",
        "        self.process_files()\n",
        "        self.df = pd.DataFrame(self.data)"
      ]
    },
    {
      "cell_type": "code",
      "execution_count": null,
      "metadata": {
        "id": "Wa_WtTswFAPI"
      },
      "outputs": [],
      "source": [
        "# Enter your directory path here\n",
        "directory_paths = [\"C:/Users/Engineering CSR20/Desktop/Deep/GermaParlTEI-main/19\"]\n",
        "\n",
        "xml_parser = XMLParser(directory_paths)\n",
        "\n",
        "xml_parser.parse_xml_files()\n",
        "\n",
        "df = xml_parser.df"
      ]
    },
    {
      "cell_type": "code",
      "execution_count": null,
      "metadata": {
        "colab": {
          "base_uri": "https://localhost:8080/"
        },
        "id": "BTzJ9QEiFEjo",
        "outputId": "9da3ddaf-726a-4fb3-b224-f7d6d6867224"
      },
      "outputs": [
        {
          "name": "stdout",
          "output_type": "stream",
          "text": [
            "<class 'pandas.core.frame.DataFrame'>\n",
            "RangeIndex: 570716 entries, 0 to 570715\n",
            "Data columns (total 13 columns):\n",
            " #   Column              Non-Null Count   Dtype \n",
            "---  ------              --------------   ----- \n",
            " 0   Number              570716 non-null  object\n",
            " 1   What                570716 non-null  object\n",
            " 2   Description         570716 non-null  object\n",
            " 3   Speaker             570716 non-null  object\n",
            " 4   SpeakerNumber       570716 non-null  int64 \n",
            " 5   SpeechText          570716 non-null  object\n",
            " 6   Party               570716 non-null  object\n",
            " 7   Role                570716 non-null  object\n",
            " 8   ParliamentaryGroup  570716 non-null  object\n",
            " 9   SessionNo           570716 non-null  object\n",
            " 10  LegislativePeriod   570716 non-null  object\n",
            " 11  Interjections       570716 non-null  int64 \n",
            " 12  Date                570716 non-null  object\n",
            "dtypes: int64(2), object(11)\n",
            "memory usage: 56.6+ MB\n"
          ]
        }
      ],
      "source": [
        "df.info()"
      ]
    },
    {
      "cell_type": "code",
      "execution_count": null,
      "metadata": {
        "colab": {
          "base_uri": "https://localhost:8080/"
        },
        "id": "Lfwb12IoFK9l",
        "outputId": "8644e5d5-3d0a-4505-da84-d99139d51b37"
      },
      "outputs": [
        {
          "data": {
            "text/plain": [
              "Role\n",
              "mp                            281895\n",
              "presidency                    260058\n",
              "government                     27861\n",
              "misc                             732\n",
              "parliamentary_commissioner       170\n",
              "Name: count, dtype: int64"
            ]
          },
          "execution_count": 22,
          "metadata": {},
          "output_type": "execute_result"
        }
      ],
      "source": [
        "df.Role.value_counts() # I think we need to keep only mp and government (definetly remove presidency!)"
      ]
    },
    {
      "cell_type": "code",
      "execution_count": null,
      "metadata": {
        "id": "6_iPu0tzFL3G"
      },
      "outputs": [],
      "source": [
        "# Keep only mp and government\n",
        "df = df[df['Role'].isin(['mp', 'government'])]"
      ]
    },
    {
      "cell_type": "code",
      "execution_count": null,
      "metadata": {
        "colab": {
          "base_uri": "https://localhost:8080/"
        },
        "id": "gmY8AcX1FLwS",
        "outputId": "37a4788c-100a-4a31-e9b0-dca6f9156022"
      },
      "outputs": [
        {
          "data": {
            "text/plain": [
              "Party\n",
              "CDU           70853\n",
              "SPD           64763\n",
              "AfD           45268\n",
              "FDP           34280\n",
              "GRUENE        33504\n",
              "DIE LINKE     32745\n",
              "CSU           24873\n",
              "parteilos      2340\n",
              "LKR             843\n",
              "Die PARTEI      266\n",
              "NA               21\n",
              "Name: count, dtype: int64"
            ]
          },
          "execution_count": 24,
          "metadata": {},
          "output_type": "execute_result"
        }
      ],
      "source": [
        "df.Party.value_counts() # Keep only parties that are in the parliament, change LINKE to DIE LINKE"
      ]
    },
    {
      "cell_type": "code",
      "execution_count": null,
      "metadata": {
        "colab": {
          "base_uri": "https://localhost:8080/"
        },
        "id": "p-_i2wjUFLl8",
        "outputId": "2c25a0da-fa95-4e15-be87-0918f6690182"
      },
      "outputs": [
        {
          "name": "stderr",
          "output_type": "stream",
          "text": [
            "C:\\Users\\Engineering CSR20\\AppData\\Local\\Temp\\ipykernel_4348\\338758534.py:1: SettingWithCopyWarning: \n",
            "A value is trying to be set on a copy of a slice from a DataFrame.\n",
            "Try using .loc[row_indexer,col_indexer] = value instead\n",
            "\n",
            "See the caveats in the documentation: https://pandas.pydata.org/pandas-docs/stable/user_guide/indexing.html#returning-a-view-versus-a-copy\n",
            "  df['Party'] = df['Party'].replace('LINKE', 'DIE LINKE') # we need to look for other such misclassification in other legislative periods\n"
          ]
        }
      ],
      "source": [
        "df['Party'] = df['Party'].replace('LINKE', 'DIE LINKE') # we need to look for other such misclassification in other legislative periods"
      ]
    },
    {
      "cell_type": "code",
      "execution_count": null,
      "metadata": {
        "id": "-PHw01afFSDd"
      },
      "outputs": [],
      "source": [
        "party_names = ['CDU', 'SPD', 'CSU', 'DIE LINKE', 'GRUENE', 'FDP', 'AfD'] # we need to change this depending on the legislative period\n",
        "df = df[df['Party'].isin(party_names)]"
      ]
    },
    {
      "cell_type": "code",
      "execution_count": null,
      "metadata": {
        "colab": {
          "base_uri": "https://localhost:8080/"
        },
        "id": "NbjofY4FjRVe",
        "outputId": "fc22517b-431c-41ac-eb84-97bb20911052"
      },
      "outputs": [
        {
          "data": {
            "text/plain": [
              "What\n",
              "motion                           130206\n",
              "consultation                      68837\n",
              "current_affairs                   29916\n",
              "Unknown                           16717\n",
              "section                           11114\n",
              "report                            10513\n",
              "questioning_of_the_government      9926\n",
              "question_time                      8989\n",
              "debate                             8019\n",
              "government_declaration             6849\n",
              "briefing                           2583\n",
              "NA                                 1732\n",
              "rules_of_procedure                  466\n",
              "budget                              271\n",
              "resolution                          102\n",
              "election                             25\n",
              "oath                                 19\n",
              "objection                             2\n",
              "Name: count, dtype: int64"
            ]
          },
          "execution_count": 27,
          "metadata": {},
          "output_type": "execute_result"
        }
      ],
      "source": [
        "df.What.value_counts()"
      ]
    },
    {
      "cell_type": "code",
      "execution_count": null,
      "metadata": {
        "id": "kKYOpniwksr8"
      },
      "outputs": [],
      "source": [
        "whatnot = ['oath', 'election', 'NA', 'Unknown', 'rules_of_procedure','point_of_order', 'announcement','objection']\n",
        "df = df[~df['What'].isin(whatnot)]"
      ]
    },
    {
      "cell_type": "code",
      "execution_count": null,
      "metadata": {
        "colab": {
          "base_uri": "https://localhost:8080/",
          "height": 250
        },
        "id": "uYwUAqMLo2JO",
        "outputId": "62bd5d19-8d0b-4c11-c48a-7ef86141c049"
      },
      "outputs": [
        {
          "data": {
            "text/html": [
              "<div>\n",
              "<style scoped>\n",
              "    .dataframe tbody tr th:only-of-type {\n",
              "        vertical-align: middle;\n",
              "    }\n",
              "\n",
              "    .dataframe tbody tr th {\n",
              "        vertical-align: top;\n",
              "    }\n",
              "\n",
              "    .dataframe thead th {\n",
              "        text-align: right;\n",
              "    }\n",
              "</style>\n",
              "<table border=\"1\" class=\"dataframe\">\n",
              "  <thead>\n",
              "    <tr style=\"text-align: right;\">\n",
              "      <th></th>\n",
              "      <th>Number</th>\n",
              "      <th>What</th>\n",
              "      <th>Description</th>\n",
              "      <th>Speaker</th>\n",
              "      <th>SpeakerNumber</th>\n",
              "      <th>SpeechText</th>\n",
              "      <th>Party</th>\n",
              "      <th>Role</th>\n",
              "      <th>ParliamentaryGroup</th>\n",
              "      <th>SessionNo</th>\n",
              "      <th>LegislativePeriod</th>\n",
              "      <th>Interjections</th>\n",
              "      <th>Date</th>\n",
              "      <th>year</th>\n",
              "      <th>month</th>\n",
              "    </tr>\n",
              "  </thead>\n",
              "  <tbody>\n",
              "    <tr>\n",
              "      <th>72</th>\n",
              "      <td>2</td>\n",
              "      <td>resolution</td>\n",
              "      <td>Beschlussfassung über die</td>\n",
              "      <td>Carsten Schneider</td>\n",
              "      <td>2</td>\n",
              "      <td>Sehr geehrter Herr Präsident! Sehr geehrte Kol...</td>\n",
              "      <td>SPD</td>\n",
              "      <td>mp</td>\n",
              "      <td>SPD</td>\n",
              "      <td>1</td>\n",
              "      <td>19</td>\n",
              "      <td>0</td>\n",
              "      <td>2017-10-24</td>\n",
              "      <td>2017</td>\n",
              "      <td>10</td>\n",
              "    </tr>\n",
              "    <tr>\n",
              "      <th>73</th>\n",
              "      <td>2</td>\n",
              "      <td>resolution</td>\n",
              "      <td>Beschlussfassung über die</td>\n",
              "      <td>Carsten Schneider</td>\n",
              "      <td>2</td>\n",
              "      <td>In diesem Haus debattieren wir über die besten...</td>\n",
              "      <td>SPD</td>\n",
              "      <td>mp</td>\n",
              "      <td>SPD</td>\n",
              "      <td>1</td>\n",
              "      <td>19</td>\n",
              "      <td>0</td>\n",
              "      <td>2017-10-24</td>\n",
              "      <td>2017</td>\n",
              "      <td>10</td>\n",
              "    </tr>\n",
              "    <tr>\n",
              "      <th>74</th>\n",
              "      <td>2</td>\n",
              "      <td>resolution</td>\n",
              "      <td>Beschlussfassung über die</td>\n",
              "      <td>Carsten Schneider</td>\n",
              "      <td>2</td>\n",
              "      <td>Der Bundestag muss wieder zur zentralen Bühne ...</td>\n",
              "      <td>SPD</td>\n",
              "      <td>mp</td>\n",
              "      <td>SPD</td>\n",
              "      <td>1</td>\n",
              "      <td>19</td>\n",
              "      <td>0</td>\n",
              "      <td>2017-10-24</td>\n",
              "      <td>2017</td>\n",
              "      <td>10</td>\n",
              "    </tr>\n",
              "    <tr>\n",
              "      <th>75</th>\n",
              "      <td>2</td>\n",
              "      <td>resolution</td>\n",
              "      <td>Beschlussfassung über die</td>\n",
              "      <td>Carsten Schneider</td>\n",
              "      <td>2</td>\n",
              "      <td>Ihr Politikstil, Frau Merkel, ist ein Grund da...</td>\n",
              "      <td>SPD</td>\n",
              "      <td>mp</td>\n",
              "      <td>SPD</td>\n",
              "      <td>1</td>\n",
              "      <td>19</td>\n",
              "      <td>0</td>\n",
              "      <td>2017-10-24</td>\n",
              "      <td>2017</td>\n",
              "      <td>10</td>\n",
              "    </tr>\n",
              "    <tr>\n",
              "      <th>76</th>\n",
              "      <td>2</td>\n",
              "      <td>resolution</td>\n",
              "      <td>Beschlussfassung über die</td>\n",
              "      <td>Carsten Schneider</td>\n",
              "      <td>2</td>\n",
              "      <td>Sie haben in diesem Wahlkampf jeden politische...</td>\n",
              "      <td>SPD</td>\n",
              "      <td>mp</td>\n",
              "      <td>SPD</td>\n",
              "      <td>1</td>\n",
              "      <td>19</td>\n",
              "      <td>0</td>\n",
              "      <td>2017-10-24</td>\n",
              "      <td>2017</td>\n",
              "      <td>10</td>\n",
              "    </tr>\n",
              "  </tbody>\n",
              "</table>\n",
              "</div>"
            ],
            "text/plain": [
              "   Number        What                Description            Speaker  \\\n",
              "72      2  resolution  Beschlussfassung über die  Carsten Schneider   \n",
              "73      2  resolution  Beschlussfassung über die  Carsten Schneider   \n",
              "74      2  resolution  Beschlussfassung über die  Carsten Schneider   \n",
              "75      2  resolution  Beschlussfassung über die  Carsten Schneider   \n",
              "76      2  resolution  Beschlussfassung über die  Carsten Schneider   \n",
              "\n",
              "    SpeakerNumber                                         SpeechText Party  \\\n",
              "72              2  Sehr geehrter Herr Präsident! Sehr geehrte Kol...   SPD   \n",
              "73              2  In diesem Haus debattieren wir über die besten...   SPD   \n",
              "74              2  Der Bundestag muss wieder zur zentralen Bühne ...   SPD   \n",
              "75              2  Ihr Politikstil, Frau Merkel, ist ein Grund da...   SPD   \n",
              "76              2  Sie haben in diesem Wahlkampf jeden politische...   SPD   \n",
              "\n",
              "   Role ParliamentaryGroup SessionNo LegislativePeriod  Interjections  \\\n",
              "72   mp                SPD         1                19              0   \n",
              "73   mp                SPD         1                19              0   \n",
              "74   mp                SPD         1                19              0   \n",
              "75   mp                SPD         1                19              0   \n",
              "76   mp                SPD         1                19              0   \n",
              "\n",
              "         Date  year  month  \n",
              "72 2017-10-24  2017     10  \n",
              "73 2017-10-24  2017     10  \n",
              "74 2017-10-24  2017     10  \n",
              "75 2017-10-24  2017     10  \n",
              "76 2017-10-24  2017     10  "
            ]
          },
          "execution_count": 29,
          "metadata": {},
          "output_type": "execute_result"
        }
      ],
      "source": [
        "# change the date\n",
        "df['Date'] = pd.to_datetime(df['Date'])\n",
        "df['year'] = df['Date'].dt.year\n",
        "df['month'] = df['Date'].dt.month\n",
        "df.head()"
      ]
    },
    {
      "cell_type": "markdown",
      "metadata": {
        "id": "jUzScbnIFi2r"
      },
      "source": [
        "Text Preprocessing"
      ]
    },
    {
      "cell_type": "code",
      "execution_count": null,
      "metadata": {
        "colab": {
          "base_uri": "https://localhost:8080/"
        },
        "id": "95idguiTFSAC",
        "outputId": "15aaf951-8dd3-4746-8608-4d3d93ec2597"
      },
      "outputs": [
        {
          "name": "stderr",
          "output_type": "stream",
          "text": [
            "[nltk_data] Downloading package punkt to C:\\Users\\Engineering\n",
            "[nltk_data]     CSR20\\AppData\\Roaming\\nltk_data...\n",
            "[nltk_data]   Package punkt is already up-to-date!\n",
            "[nltk_data] Downloading package stopwords to C:\\Users\\Engineering\n",
            "[nltk_data]     CSR20\\AppData\\Roaming\\nltk_data...\n",
            "[nltk_data]   Package stopwords is already up-to-date!\n"
          ]
        },
        {
          "data": {
            "text/plain": [
              "True"
            ]
          },
          "execution_count": 30,
          "metadata": {},
          "output_type": "execute_result"
        }
      ],
      "source": [
        "import nltk\n",
        "from nltk.tokenize import word_tokenize\n",
        "from nltk.corpus import stopwords\n",
        "import string\n",
        "\n",
        "nltk.download('stopwords')"
      ]
    },
    {
      "cell_type": "code",
      "execution_count": null,
      "metadata": {
        "id": "EYbpE9jo-f5m"
      },
      "outputs": [],
      "source": [
        "stop_words = set(stopwords.words('german'))\n",
        "\n",
        "def preprocess_text(text):\n",
        "    if text is None:\n",
        "        return None\n",
        "    text = text.replace(\"-\", \" \").replace(\"/\", \" \")\n",
        "    tokens = word_tokenize(text)\n",
        "    tokens = [token for token in tokens if token not in party_names]\n",
        "    tokens = [token for token in tokens if token not in stop_words]\n",
        "    tokens = [token for token in tokens if not token.isdigit()]\n",
        "    preprocessed_text = ' '.join(tokens)\n",
        "\n",
        "    return preprocessed_text\n",
        "\n",
        "def preprocess_df(df):\n",
        "    df['tokens'] = df['SpeechText'].apply(preprocess_text)\n",
        "    return df"
      ]
    },
    {
      "cell_type": "code",
      "execution_count": null,
      "metadata": {
        "colab": {
          "base_uri": "https://localhost:8080/",
          "height": 745
        },
        "id": "SawVwA_aFpSL",
        "outputId": "042f44c2-0e19-4917-cdff-8372a6975f99"
      },
      "outputs": [
        {
          "data": {
            "text/html": [
              "<div>\n",
              "<style scoped>\n",
              "    .dataframe tbody tr th:only-of-type {\n",
              "        vertical-align: middle;\n",
              "    }\n",
              "\n",
              "    .dataframe tbody tr th {\n",
              "        vertical-align: top;\n",
              "    }\n",
              "\n",
              "    .dataframe thead th {\n",
              "        text-align: right;\n",
              "    }\n",
              "</style>\n",
              "<table border=\"1\" class=\"dataframe\">\n",
              "  <thead>\n",
              "    <tr style=\"text-align: right;\">\n",
              "      <th></th>\n",
              "      <th>Number</th>\n",
              "      <th>What</th>\n",
              "      <th>Description</th>\n",
              "      <th>Speaker</th>\n",
              "      <th>SpeakerNumber</th>\n",
              "      <th>SpeechText</th>\n",
              "      <th>Party</th>\n",
              "      <th>Role</th>\n",
              "      <th>ParliamentaryGroup</th>\n",
              "      <th>SessionNo</th>\n",
              "      <th>LegislativePeriod</th>\n",
              "      <th>Interjections</th>\n",
              "      <th>Date</th>\n",
              "      <th>year</th>\n",
              "      <th>month</th>\n",
              "      <th>tokens</th>\n",
              "    </tr>\n",
              "  </thead>\n",
              "  <tbody>\n",
              "    <tr>\n",
              "      <th>72</th>\n",
              "      <td>2</td>\n",
              "      <td>resolution</td>\n",
              "      <td>Beschlussfassung über die</td>\n",
              "      <td>Carsten Schneider</td>\n",
              "      <td>2</td>\n",
              "      <td>Sehr geehrter Herr Präsident! Sehr geehrte Kol...</td>\n",
              "      <td>SPD</td>\n",
              "      <td>mp</td>\n",
              "      <td>SPD</td>\n",
              "      <td>1</td>\n",
              "      <td>19</td>\n",
              "      <td>0</td>\n",
              "      <td>2017-10-24</td>\n",
              "      <td>2017</td>\n",
              "      <td>10</td>\n",
              "      <td>Sehr geehrter Herr Präsident ! Sehr geehrte Ko...</td>\n",
              "    </tr>\n",
              "    <tr>\n",
              "      <th>73</th>\n",
              "      <td>2</td>\n",
              "      <td>resolution</td>\n",
              "      <td>Beschlussfassung über die</td>\n",
              "      <td>Carsten Schneider</td>\n",
              "      <td>2</td>\n",
              "      <td>In diesem Haus debattieren wir über die besten...</td>\n",
              "      <td>SPD</td>\n",
              "      <td>mp</td>\n",
              "      <td>SPD</td>\n",
              "      <td>1</td>\n",
              "      <td>19</td>\n",
              "      <td>0</td>\n",
              "      <td>2017-10-24</td>\n",
              "      <td>2017</td>\n",
              "      <td>10</td>\n",
              "      <td>In Haus debattieren besten politischen Lösunge...</td>\n",
              "    </tr>\n",
              "    <tr>\n",
              "      <th>74</th>\n",
              "      <td>2</td>\n",
              "      <td>resolution</td>\n",
              "      <td>Beschlussfassung über die</td>\n",
              "      <td>Carsten Schneider</td>\n",
              "      <td>2</td>\n",
              "      <td>Der Bundestag muss wieder zur zentralen Bühne ...</td>\n",
              "      <td>SPD</td>\n",
              "      <td>mp</td>\n",
              "      <td>SPD</td>\n",
              "      <td>1</td>\n",
              "      <td>19</td>\n",
              "      <td>0</td>\n",
              "      <td>2017-10-24</td>\n",
              "      <td>2017</td>\n",
              "      <td>10</td>\n",
              "      <td>Der Bundestag zentralen Bühne politischen Ause...</td>\n",
              "    </tr>\n",
              "    <tr>\n",
              "      <th>75</th>\n",
              "      <td>2</td>\n",
              "      <td>resolution</td>\n",
              "      <td>Beschlussfassung über die</td>\n",
              "      <td>Carsten Schneider</td>\n",
              "      <td>2</td>\n",
              "      <td>Ihr Politikstil, Frau Merkel, ist ein Grund da...</td>\n",
              "      <td>SPD</td>\n",
              "      <td>mp</td>\n",
              "      <td>SPD</td>\n",
              "      <td>1</td>\n",
              "      <td>19</td>\n",
              "      <td>0</td>\n",
              "      <td>2017-10-24</td>\n",
              "      <td>2017</td>\n",
              "      <td>10</td>\n",
              "      <td>Ihr Politikstil , Frau Merkel , Grund dafür , ...</td>\n",
              "    </tr>\n",
              "    <tr>\n",
              "      <th>76</th>\n",
              "      <td>2</td>\n",
              "      <td>resolution</td>\n",
              "      <td>Beschlussfassung über die</td>\n",
              "      <td>Carsten Schneider</td>\n",
              "      <td>2</td>\n",
              "      <td>Sie haben in diesem Wahlkampf jeden politische...</td>\n",
              "      <td>SPD</td>\n",
              "      <td>mp</td>\n",
              "      <td>SPD</td>\n",
              "      <td>1</td>\n",
              "      <td>19</td>\n",
              "      <td>0</td>\n",
              "      <td>2017-10-24</td>\n",
              "      <td>2017</td>\n",
              "      <td>10</td>\n",
              "      <td>Sie Wahlkampf politischen Streit besseren Idee...</td>\n",
              "    </tr>\n",
              "    <tr>\n",
              "      <th>...</th>\n",
              "      <td>...</td>\n",
              "      <td>...</td>\n",
              "      <td>...</td>\n",
              "      <td>...</td>\n",
              "      <td>...</td>\n",
              "      <td>...</td>\n",
              "      <td>...</td>\n",
              "      <td>...</td>\n",
              "      <td>...</td>\n",
              "      <td>...</td>\n",
              "      <td>...</td>\n",
              "      <td>...</td>\n",
              "      <td>...</td>\n",
              "      <td>...</td>\n",
              "      <td>...</td>\n",
              "      <td>...</td>\n",
              "    </tr>\n",
              "    <tr>\n",
              "      <th>569951</th>\n",
              "      <td>Z1</td>\n",
              "      <td>consultation</td>\n",
              "      <td>Beratung der Beschlussempfehlung des Ausschuss...</td>\n",
              "      <td>Florian Toncar</td>\n",
              "      <td>224</td>\n",
              "      <td>Dennoch besteht nicht allzu viel Grund zum Sel...</td>\n",
              "      <td>FDP</td>\n",
              "      <td>mp</td>\n",
              "      <td>FDP</td>\n",
              "      <td>239</td>\n",
              "      <td>19</td>\n",
              "      <td>0</td>\n",
              "      <td>2021-09-07</td>\n",
              "      <td>2021</td>\n",
              "      <td>9</td>\n",
              "      <td>Dennoch besteht allzu Grund Selbstlob Feiern ;...</td>\n",
              "    </tr>\n",
              "    <tr>\n",
              "      <th>569952</th>\n",
              "      <td>Z1</td>\n",
              "      <td>consultation</td>\n",
              "      <td>Beratung der Beschlussempfehlung des Ausschuss...</td>\n",
              "      <td>Florian Toncar</td>\n",
              "      <td>224</td>\n",
              "      <td>Der andere Grund, warum ich vor zu viel Euphor...</td>\n",
              "      <td>FDP</td>\n",
              "      <td>mp</td>\n",
              "      <td>FDP</td>\n",
              "      <td>239</td>\n",
              "      <td>19</td>\n",
              "      <td>0</td>\n",
              "      <td>2021-09-07</td>\n",
              "      <td>2021</td>\n",
              "      <td>9</td>\n",
              "      <td>Der Grund , warum Euphorie warne : Der gestrig...</td>\n",
              "    </tr>\n",
              "    <tr>\n",
              "      <th>569953</th>\n",
              "      <td>Z1</td>\n",
              "      <td>consultation</td>\n",
              "      <td>Beratung der Beschlussempfehlung des Ausschuss...</td>\n",
              "      <td>Florian Toncar</td>\n",
              "      <td>224</td>\n",
              "      <td>Wenn man sich anschaut, wie dieses Gesetz zust...</td>\n",
              "      <td>FDP</td>\n",
              "      <td>mp</td>\n",
              "      <td>FDP</td>\n",
              "      <td>239</td>\n",
              "      <td>19</td>\n",
              "      <td>0</td>\n",
              "      <td>2021-09-07</td>\n",
              "      <td>2021</td>\n",
              "      <td>9</td>\n",
              "      <td>Wenn anschaut , Gesetz zustande gekommen – For...</td>\n",
              "    </tr>\n",
              "    <tr>\n",
              "      <th>569954</th>\n",
              "      <td>Z1</td>\n",
              "      <td>consultation</td>\n",
              "      <td>Beratung der Beschlussempfehlung des Ausschuss...</td>\n",
              "      <td>Florian Toncar</td>\n",
              "      <td>224</td>\n",
              "      <td>Wir brauchen eine andere Mentalität, einen and...</td>\n",
              "      <td>FDP</td>\n",
              "      <td>mp</td>\n",
              "      <td>FDP</td>\n",
              "      <td>239</td>\n",
              "      <td>19</td>\n",
              "      <td>0</td>\n",
              "      <td>2021-09-07</td>\n",
              "      <td>2021</td>\n",
              "      <td>9</td>\n",
              "      <td>Wir brauchen Mentalität , Anspruch Ambition Re...</td>\n",
              "    </tr>\n",
              "    <tr>\n",
              "      <th>569955</th>\n",
              "      <td>Z1</td>\n",
              "      <td>consultation</td>\n",
              "      <td>Beratung der Beschlussempfehlung des Ausschuss...</td>\n",
              "      <td>Florian Toncar</td>\n",
              "      <td>224</td>\n",
              "      <td>Herzlichen Dank.</td>\n",
              "      <td>FDP</td>\n",
              "      <td>mp</td>\n",
              "      <td>FDP</td>\n",
              "      <td>239</td>\n",
              "      <td>19</td>\n",
              "      <td>0</td>\n",
              "      <td>2021-09-07</td>\n",
              "      <td>2021</td>\n",
              "      <td>9</td>\n",
              "      <td>Herzlichen Dank .</td>\n",
              "    </tr>\n",
              "  </tbody>\n",
              "</table>\n",
              "<p>287325 rows × 16 columns</p>\n",
              "</div>"
            ],
            "text/plain": [
              "       Number          What  \\\n",
              "72          2    resolution   \n",
              "73          2    resolution   \n",
              "74          2    resolution   \n",
              "75          2    resolution   \n",
              "76          2    resolution   \n",
              "...       ...           ...   \n",
              "569951     Z1  consultation   \n",
              "569952     Z1  consultation   \n",
              "569953     Z1  consultation   \n",
              "569954     Z1  consultation   \n",
              "569955     Z1  consultation   \n",
              "\n",
              "                                              Description            Speaker  \\\n",
              "72                              Beschlussfassung über die  Carsten Schneider   \n",
              "73                              Beschlussfassung über die  Carsten Schneider   \n",
              "74                              Beschlussfassung über die  Carsten Schneider   \n",
              "75                              Beschlussfassung über die  Carsten Schneider   \n",
              "76                              Beschlussfassung über die  Carsten Schneider   \n",
              "...                                                   ...                ...   \n",
              "569951  Beratung der Beschlussempfehlung des Ausschuss...     Florian Toncar   \n",
              "569952  Beratung der Beschlussempfehlung des Ausschuss...     Florian Toncar   \n",
              "569953  Beratung der Beschlussempfehlung des Ausschuss...     Florian Toncar   \n",
              "569954  Beratung der Beschlussempfehlung des Ausschuss...     Florian Toncar   \n",
              "569955  Beratung der Beschlussempfehlung des Ausschuss...     Florian Toncar   \n",
              "\n",
              "        SpeakerNumber                                         SpeechText  \\\n",
              "72                  2  Sehr geehrter Herr Präsident! Sehr geehrte Kol...   \n",
              "73                  2  In diesem Haus debattieren wir über die besten...   \n",
              "74                  2  Der Bundestag muss wieder zur zentralen Bühne ...   \n",
              "75                  2  Ihr Politikstil, Frau Merkel, ist ein Grund da...   \n",
              "76                  2  Sie haben in diesem Wahlkampf jeden politische...   \n",
              "...               ...                                                ...   \n",
              "569951            224  Dennoch besteht nicht allzu viel Grund zum Sel...   \n",
              "569952            224  Der andere Grund, warum ich vor zu viel Euphor...   \n",
              "569953            224  Wenn man sich anschaut, wie dieses Gesetz zust...   \n",
              "569954            224  Wir brauchen eine andere Mentalität, einen and...   \n",
              "569955            224                                   Herzlichen Dank.   \n",
              "\n",
              "       Party Role ParliamentaryGroup SessionNo LegislativePeriod  \\\n",
              "72       SPD   mp                SPD         1                19   \n",
              "73       SPD   mp                SPD         1                19   \n",
              "74       SPD   mp                SPD         1                19   \n",
              "75       SPD   mp                SPD         1                19   \n",
              "76       SPD   mp                SPD         1                19   \n",
              "...      ...  ...                ...       ...               ...   \n",
              "569951   FDP   mp                FDP       239                19   \n",
              "569952   FDP   mp                FDP       239                19   \n",
              "569953   FDP   mp                FDP       239                19   \n",
              "569954   FDP   mp                FDP       239                19   \n",
              "569955   FDP   mp                FDP       239                19   \n",
              "\n",
              "        Interjections       Date  year  month  \\\n",
              "72                  0 2017-10-24  2017     10   \n",
              "73                  0 2017-10-24  2017     10   \n",
              "74                  0 2017-10-24  2017     10   \n",
              "75                  0 2017-10-24  2017     10   \n",
              "76                  0 2017-10-24  2017     10   \n",
              "...               ...        ...   ...    ...   \n",
              "569951              0 2021-09-07  2021      9   \n",
              "569952              0 2021-09-07  2021      9   \n",
              "569953              0 2021-09-07  2021      9   \n",
              "569954              0 2021-09-07  2021      9   \n",
              "569955              0 2021-09-07  2021      9   \n",
              "\n",
              "                                                   tokens  \n",
              "72      Sehr geehrter Herr Präsident ! Sehr geehrte Ko...  \n",
              "73      In Haus debattieren besten politischen Lösunge...  \n",
              "74      Der Bundestag zentralen Bühne politischen Ause...  \n",
              "75      Ihr Politikstil , Frau Merkel , Grund dafür , ...  \n",
              "76      Sie Wahlkampf politischen Streit besseren Idee...  \n",
              "...                                                   ...  \n",
              "569951  Dennoch besteht allzu Grund Selbstlob Feiern ;...  \n",
              "569952  Der Grund , warum Euphorie warne : Der gestrig...  \n",
              "569953  Wenn anschaut , Gesetz zustande gekommen – For...  \n",
              "569954  Wir brauchen Mentalität , Anspruch Ambition Re...  \n",
              "569955                                  Herzlichen Dank .  \n",
              "\n",
              "[287325 rows x 16 columns]"
            ]
          },
          "execution_count": 16,
          "metadata": {},
          "output_type": "execute_result"
        }
      ],
      "source": [
        "preprocess_df(df)"
      ]
    },
    {
      "cell_type": "code",
      "execution_count": null,
      "metadata": {
        "id": "n4NTTqEl-f5o"
      },
      "outputs": [],
      "source": [
        "#df.to_pickle('BT19.pkl')\n",
        "df.to_pickle('BT19.pkl')"
      ]
    }
  ],
  "metadata": {
    "colab": {
      "gpuType": "T4",
      "provenance": [],
      "include_colab_link": true
    },
    "kernelspec": {
      "display_name": "Python 3 (ipykernel)",
      "language": "python",
      "name": "python3"
    },
    "language_info": {
      "codemirror_mode": {
        "name": "ipython",
        "version": 3
      },
      "file_extension": ".py",
      "mimetype": "text/x-python",
      "name": "python",
      "nbconvert_exporter": "python",
      "pygments_lexer": "ipython3",
      "version": "3.10.12"
    }
  },
  "nbformat": 4,
  "nbformat_minor": 0
}