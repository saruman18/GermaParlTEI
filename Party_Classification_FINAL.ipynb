{
  "cells": [
    {
      "cell_type": "markdown",
      "metadata": {
        "id": "view-in-github",
        "colab_type": "text"
      },
      "source": [
        "<a href=\"https://colab.research.google.com/github/saruman18/GermaParlTEI/blob/main/Party_Classification_FINAL.ipynb\" target=\"_parent\"><img src=\"https://colab.research.google.com/assets/colab-badge.svg\" alt=\"Open In Colab\"/></a>"
      ]
    },
    {
      "cell_type": "code",
      "execution_count": null,
      "metadata": {
        "id": "60X2cXwVmOES"
      },
      "outputs": [],
      "source": [
        "# Uncomment the following lines if you are working with Collab in our drive\n",
        "#drive.mount('/content/drive')\n",
        "#gdrive_path='/content/drive/MyDrive/DeepGroup'\n",
        "#os.chdir(gdrive_path)\n",
        "#print(sorted(os.listdir()))"
      ]
    },
    {
      "cell_type": "code",
      "execution_count": null,
      "metadata": {
        "id": "IqNo-FLsfTJb",
        "outputId": "21495368-faff-40b9-801b-6f08bff8a3c2"
      },
      "outputs": [
        {
          "name": "stdout",
          "output_type": "stream",
          "text": [
            "True\n",
            "True\n"
          ]
        }
      ],
      "source": [
        "#For macbook\n",
        "import torch\n",
        "import math\n",
        "# this ensures that the current MacOS version is at least 12.3+\n",
        "print(torch.backends.mps.is_available())\n",
        "# this ensures that the current current PyTorch installation was built with MPS activated.\n",
        "print(torch.backends.mps.is_built())\n",
        "\n",
        "device = torch.device(\"mps\")"
      ]
    },
    {
      "cell_type": "code",
      "execution_count": null,
      "metadata": {
        "id": "N_S8LYK7fTJb"
      },
      "outputs": [],
      "source": [
        "torch.mps.empty_cache()"
      ]
    },
    {
      "cell_type": "code",
      "execution_count": null,
      "metadata": {
        "id": "yQXHzBNimyuE"
      },
      "outputs": [],
      "source": [
        "# import libraries\n",
        "import pandas as pd\n",
        "from collections import Counter\n",
        "import numpy as np\n",
        "import torch as torch\n",
        "import torch.nn as nn\n",
        "import torch.optim as optim\n",
        "import torch.nn.init as init\n",
        "from torch.utils.data import Dataset, DataLoader\n",
        "from torch.optim.lr_scheduler import StepLR\n",
        "from sklearn.model_selection import train_test_split\n",
        "import matplotlib.pyplot as plt\n",
        "from transformers import AutoModel, AutoTokenizer\n",
        "from tqdm import tqdm\n",
        "import pickle\n",
        "from sklearn.metrics import precision_score, recall_score, f1_score\n",
        "from sklearn.metrics import confusion_matrix\n",
        "import seaborn as sns"
      ]
    },
    {
      "cell_type": "code",
      "execution_count": null,
      "metadata": {
        "id": "G7KCv1l7fTJc"
      },
      "outputs": [],
      "source": [
        "#Load the data, specifiy the correct file name.\n",
        "embeddings = torch.load(\"sample_2018_10000.pth\", map_location=torch.device('cpu'))"
      ]
    },
    {
      "cell_type": "markdown",
      "metadata": {
        "id": "Pih8MN7zfTJc"
      },
      "source": [
        "# Embeddings dataset  "
      ]
    },
    {
      "cell_type": "code",
      "execution_count": null,
      "metadata": {
        "id": "avl9qfAYfTJd"
      },
      "outputs": [],
      "source": [
        "print(embeddings)"
      ]
    },
    {
      "cell_type": "code",
      "execution_count": null,
      "metadata": {
        "id": "Rv7LodEcfTJe"
      },
      "outputs": [],
      "source": [
        "class EmbeddingsDataset(Dataset):\n",
        "    def __init__(self, embeddings):\n",
        "        self.labels_with_embeddings = embeddings\n",
        "        self.embeddings = self.labels_with_embeddings[\"embeddings\"]\n",
        "        self.labels = self.labels_with_embeddings[\"labels\"]\n",
        "\n",
        "    def __len__(self):\n",
        "        return len(self.labels)\n",
        "\n",
        "    def __getitem__(self, index):\n",
        "        embedding = self.embeddings[index]\n",
        "        label = self.labels[index]\n",
        "\n",
        "        return embedding, label"
      ]
    },
    {
      "cell_type": "code",
      "execution_count": null,
      "metadata": {
        "id": "xTGSCLzSfTJe"
      },
      "outputs": [],
      "source": [
        "embeddeddata = EmbeddingsDataset(embeddings)"
      ]
    },
    {
      "cell_type": "code",
      "execution_count": null,
      "metadata": {
        "id": "K0h41iMqfTJe",
        "outputId": "dc558b31-fb97-4176-beae-95c93f743a41"
      },
      "outputs": [
        {
          "name": "stdout",
          "output_type": "stream",
          "text": [
            "9996\n"
          ]
        }
      ],
      "source": [
        "print(len(embeddeddata))"
      ]
    },
    {
      "cell_type": "markdown",
      "metadata": {
        "id": "cXkFMJ7BSEy8"
      },
      "source": [
        "\n",
        "# Split datasets and call dataloader\n",
        "\n"
      ]
    },
    {
      "cell_type": "code",
      "execution_count": null,
      "metadata": {
        "id": "ucGmvq-zQHgn"
      },
      "outputs": [],
      "source": [
        "# Split the DataFrame into train, validation, and test sets\n",
        "train_data, temp_data = train_test_split(embeddeddata, test_size=0.2, random_state=42)\n",
        "val_data, test_data = train_test_split(temp_data, test_size=0.5, random_state=42)"
      ]
    },
    {
      "cell_type": "code",
      "execution_count": null,
      "metadata": {
        "id": "bAm66Rz-fTJf",
        "outputId": "ce174b7e-251c-48d4-d32f-353fad3ef65b"
      },
      "outputs": [
        {
          "name": "stdout",
          "output_type": "stream",
          "text": [
            "number of training samples: 7996\n",
            "number of validation samples: 1000\n",
            "number of test samples: 1000\n"
          ]
        }
      ],
      "source": [
        "print(\"number of training samples: {}\".format(len(train_data)))\n",
        "print(\"number of validation samples: {}\".format(len(val_data)))\n",
        "print(\"number of test samples: {}\".format(len(test_data)))"
      ]
    },
    {
      "cell_type": "code",
      "execution_count": null,
      "metadata": {
        "id": "SrZwqWWtSoo7"
      },
      "outputs": [],
      "source": [
        "train_dataloader = DataLoader(train_data, batch_size=32, shuffle=True) #CHANGE BATCH SIZE HERE!!!!\n",
        "val_dataloader = DataLoader(val_data, batch_size=32, shuffle=False)\n",
        "test_dataloader = DataLoader(test_data, batch_size=32, shuffle=False)"
      ]
    },
    {
      "cell_type": "code",
      "execution_count": null,
      "metadata": {
        "colab": {
          "base_uri": "https://localhost:8080/"
        },
        "id": "TAS_IyUE5Q_p",
        "outputId": "866f63b5-61b5-4d5b-f96f-34a56445b0fb"
      },
      "outputs": [
        {
          "name": "stdout",
          "output_type": "stream",
          "text": [
            "250\n",
            "32\n"
          ]
        }
      ],
      "source": [
        "#Check legnth of dataloaders\n",
        "print(len(train_dataloader))\n",
        "print(len(val_dataloader))"
      ]
    },
    {
      "cell_type": "code",
      "execution_count": null,
      "metadata": {
        "id": "JhoJASl2fTJg",
        "outputId": "0d226a88-eb59-484a-ae98-a69045e1bda1"
      },
      "outputs": [
        {
          "name": "stdout",
          "output_type": "stream",
          "text": [
            "Batch 1:\n",
            "Embeddings:\n",
            "torch.Size([32, 512, 768])\n",
            "Labels:\n",
            "tensor([2, 4, 3, 3, 5, 5, 1, 4, 3, 4, 1, 0, 5, 1, 1, 3, 2, 5, 5, 3, 5, 5, 2, 5,\n",
            "        0, 2, 3, 1, 4, 1, 5, 3])\n",
            "--------------------------------------------------\n",
            "Batch 2:\n",
            "Embeddings:\n",
            "torch.Size([32, 512, 768])\n",
            "Labels:\n",
            "tensor([5, 4, 0, 4, 5, 1, 5, 1, 0, 3, 1, 0, 5, 4, 0, 4, 1, 3, 2, 2, 3, 3, 2, 1,\n",
            "        5, 1, 0, 3, 2, 2, 5, 4])\n",
            "--------------------------------------------------\n",
            "Batch 3:\n",
            "Embeddings:\n",
            "torch.Size([32, 512, 768])\n",
            "Labels:\n",
            "tensor([4, 4, 0, 2, 1, 0, 3, 3, 0, 0, 4, 2, 2, 0, 3, 0, 3, 2, 5, 4, 1, 3, 3, 5,\n",
            "        5, 5, 3, 4, 0, 3, 0, 2])\n",
            "--------------------------------------------------\n",
            "Batch 4:\n",
            "Embeddings:\n",
            "torch.Size([32, 512, 768])\n",
            "Labels:\n",
            "tensor([2, 5, 3, 1, 5, 4, 3, 4, 0, 0, 4, 0, 2, 4, 0, 2, 4, 3, 2, 0, 0, 3, 3, 0,\n",
            "        5, 2, 5, 5, 0, 1, 0, 0])\n",
            "--------------------------------------------------\n",
            "Batch 5:\n",
            "Embeddings:\n",
            "torch.Size([32, 512, 768])\n",
            "Labels:\n",
            "tensor([4, 2, 5, 3, 4, 3, 3, 1, 3, 5, 4, 0, 3, 1, 0, 4, 1, 4, 3, 2, 4, 5, 2, 1,\n",
            "        3, 4, 1, 2, 1, 0, 0, 1])\n",
            "--------------------------------------------------\n"
          ]
        }
      ],
      "source": [
        "for batch_idx, (embedding, label) in enumerate(val_dataloader):\n",
        "    if batch_idx >= 5:\n",
        "        break\n",
        "\n",
        "    print(f\"Batch {batch_idx + 1}:\")\n",
        "    print(\"Embeddings:\")\n",
        "    print(embedding.shape)  # Print the shape of embeddings tensor\n",
        "    print(\"Labels:\")\n",
        "    print(label)  # Print the labels (assuming they're not one-hot encoded)\n",
        "    print(\"-\" * 50)\n"
      ]
    },
    {
      "cell_type": "markdown",
      "metadata": {
        "id": "EmZAC2x7TQwL"
      },
      "source": [
        "# Model"
      ]
    },
    {
      "cell_type": "code",
      "execution_count": null,
      "metadata": {
        "id": "N23Q6Of6TS0a"
      },
      "outputs": [],
      "source": [
        "class Classifier(nn.Module):\n",
        "    def __init__(self, hp=None):\n",
        "        super(Classifier, self).__init__()\n",
        "        self.hp = hp\n",
        "        self.classifier= nn.Sequential(\n",
        "            nn.Flatten(),\n",
        "            nn.Dropout(0.5),\n",
        "            nn.Linear(hp[\"input_size\"], hp[\"num_classes\"]))\n",
        "\n",
        "    def forward(self, x):\n",
        "        logits = self.classifier(x)\n",
        "\n",
        "        return torch.softmax(logits, dim=1)\n"
      ]
    },
    {
      "cell_type": "markdown",
      "metadata": {
        "id": "AZU3nI6oS2L1"
      },
      "source": [
        "# Training Pipeline"
      ]
    },
    {
      "cell_type": "code",
      "execution_count": null,
      "metadata": {
        "id": "nvEdP1qdS4Lr"
      },
      "outputs": [],
      "source": [
        "#Set any hyperparameters here in this dict\n",
        "hparams = {\n",
        "    \"input_size\":393216,\n",
        "    \"num_classes\": 5, #Adjust number of classes according to the year!\n",
        "    \"lr\": 0.00002,\n",
        "    \"epochs\":4,\n",
        "}"
      ]
    },
    {
      "cell_type": "code",
      "execution_count": null,
      "metadata": {
        "id": "bI9gN2V7b7jB"
      },
      "outputs": [],
      "source": [
        "def train_model(model, train_dataloader, val_dataloader, criterion, optimizer, hp = hparams):\n",
        "    device = torch.device(\"mps\") #torch.device(\"cuda\" if torch.cuda.is_available() else \"cpu\")\n",
        "    model.to(device)\n",
        "\n",
        "    train_losses = []\n",
        "    valid_losses = []\n",
        "\n",
        "    for epoch in range(hp[\"epochs\"]):\n",
        "        model.train()\n",
        "        train_loss = 0\n",
        "\n",
        "        for embedding, label in train_dataloader:\n",
        "\n",
        "            embedding = embedding.to(device)\n",
        "            label= label.to(device)\n",
        "\n",
        "            #Forward pass.\n",
        "            party = model(embedding)\n",
        "\n",
        "            #Compute loss\n",
        "            loss = criterion(party, label)\n",
        "\n",
        "            optimizer.zero_grad()\n",
        "\n",
        "            #Backward pass and optimization\n",
        "            loss.backward()\n",
        "            # Update the classifier parameters\n",
        "            optimizer.step()\n",
        "\n",
        "            train_loss += loss.item()\n",
        "\n",
        "        #Calculate avergae training loss\n",
        "        train_loss = train_loss / len(train_dataloader.dataset)\n",
        "        train_losses.append(train_loss)\n",
        "\n",
        "        # Validation\n",
        "        model.eval()\n",
        "\n",
        "        with torch.no_grad():\n",
        "            valid_loss = 0\n",
        "\n",
        "            for embedding, label in val_dataloader:\n",
        "                embedding = embedding.to(device)\n",
        "                label= label.to(device)\n",
        "\n",
        "                #Forward pass\n",
        "                party = model(embedding)\n",
        "                #Compute loss\n",
        "                loss = criterion(party, label)\n",
        "\n",
        "                valid_loss += loss.item()\n",
        "\n",
        "            #Calculate averga validation loss\n",
        "            valid_loss = valid_loss/ len(val_dataloader.dataset)\n",
        "            valid_losses.append(valid_loss)\n",
        "\n",
        "        print(f\"Epoch {epoch+1}/{hp['epochs']} - Training loss: {train_loss:.4f} - Valid Loss: {valid_loss:.4f}\")\n",
        "\n",
        "        # Save model parameters at every epoch\n",
        "        torch.save(model.state_dict(), f'model_epoch_{epoch + 1}.pth')\n",
        "\n",
        "\n",
        "    print(\"Finished training\")\n",
        "    return train_losses, valid_losses\n",
        "\n"
      ]
    },
    {
      "cell_type": "code",
      "execution_count": null,
      "metadata": {
        "id": "XdmAB798T0-M"
      },
      "outputs": [],
      "source": [
        "model = Classifier(hp=hparams)"
      ]
    },
    {
      "cell_type": "code",
      "execution_count": null,
      "metadata": {
        "colab": {
          "base_uri": "https://localhost:8080/"
        },
        "id": "RcqJlqmdfTJh",
        "outputId": "3b15ba99-f686-4bad-d84d-39aadc834afe"
      },
      "outputs": [
        {
          "output_type": "stream",
          "name": "stdout",
          "text": [
            "Number of parameters in the model: 1966085\n"
          ]
        }
      ],
      "source": [
        "def count_parameters(model):\n",
        "    return sum(p.numel() for p in model.parameters())\n",
        "\n",
        "# Count the parameters\n",
        "num_params = count_parameters(model)\n",
        "print(f\"Number of parameters in the model: {num_params}\")\n"
      ]
    },
    {
      "cell_type": "code",
      "execution_count": null,
      "metadata": {
        "id": "H289fQm-tW48"
      },
      "outputs": [],
      "source": [
        "optimizer = torch.optim.Adam(model.parameters(), lr=hparams[\"lr\"], betas=([0.9, 0.999]))\n",
        "\n",
        "criterion = nn.CrossEntropyLoss()"
      ]
    },
    {
      "cell_type": "markdown",
      "metadata": {
        "id": "rJs-ILRDyx6w"
      },
      "source": [
        "# Training"
      ]
    },
    {
      "cell_type": "code",
      "execution_count": null,
      "metadata": {
        "id": "8nIvnB-pywab"
      },
      "outputs": [],
      "source": [
        "train_losses, valid_losses = train_model(model, train_dataloader, val_dataloader, criterion, optimizer, hp = hparams )"
      ]
    },
    {
      "cell_type": "code",
      "execution_count": null,
      "metadata": {
        "id": "4qtQyAZozu3h"
      },
      "outputs": [],
      "source": [
        "#Plot loss curves\n",
        "plt.plot(range(1, hparams[\"epochs\"]+1), train_losses, label=\"Train Loss\")\n",
        "plt.plot(range(1, hparams[\"epochs\"]+1), valid_losses, label=\"Valid Loss\")\n",
        "plt.xlabel(\"Epoch\")\n",
        "plt.ylabel(\"Loss\")\n",
        "plt.title(\"Training and Validation Loss Curves\")\n",
        "plt.legend()\n",
        "plt.show()"
      ]
    },
    {
      "cell_type": "code",
      "execution_count": null,
      "metadata": {
        "id": "Nc3MPGWFfTJi",
        "outputId": "7a108520-1bb2-4557-e101-34c724acd953"
      },
      "outputs": [
        {
          "ename": "TypeError",
          "evalue": "Expected state_dict to be dict-like, got <class '__main__.Classifier'>.",
          "output_type": "error",
          "traceback": [
            "\u001b[0;31m---------------------------------------------------------------------------\u001b[0m",
            "\u001b[0;31mTypeError\u001b[0m                                 Traceback (most recent call last)",
            "Cell \u001b[0;32mIn[19], line 9\u001b[0m\n\u001b[1;32m      6\u001b[0m model_state_dict \u001b[38;5;241m=\u001b[39m torch\u001b[38;5;241m.\u001b[39mload(\u001b[38;5;124m\"\u001b[39m\u001b[38;5;124mmodel_2018_final.pth\u001b[39m\u001b[38;5;124m\"\u001b[39m) \u001b[38;5;66;03m#(f'model_epoch_{epoch_to_load}.pth')\u001b[39;00m\n\u001b[1;32m      8\u001b[0m \u001b[38;5;66;03m# Load the model's state_dict\u001b[39;00m\n\u001b[0;32m----> 9\u001b[0m \u001b[43mmodel\u001b[49m\u001b[38;5;241;43m.\u001b[39;49m\u001b[43mload_state_dict\u001b[49m\u001b[43m(\u001b[49m\u001b[43mmodel_state_dict\u001b[49m\u001b[43m)\u001b[49m\n\u001b[1;32m     11\u001b[0m model\u001b[38;5;241m.\u001b[39mto(device)\n",
            "File \u001b[0;32m~/opt/anaconda3/envs/torch-gpu/lib/python3.8/site-packages/torch/nn/modules/module.py:2096\u001b[0m, in \u001b[0;36mModule.load_state_dict\u001b[0;34m(self, state_dict, strict, assign)\u001b[0m\n\u001b[1;32m   2062\u001b[0m \u001b[38;5;250m\u001b[39m\u001b[38;5;124mr\u001b[39m\u001b[38;5;124;03m\"\"\"Copies parameters and buffers from :attr:`state_dict` into\u001b[39;00m\n\u001b[1;32m   2063\u001b[0m \u001b[38;5;124;03mthis module and its descendants. If :attr:`strict` is ``True``, then\u001b[39;00m\n\u001b[1;32m   2064\u001b[0m \u001b[38;5;124;03mthe keys of :attr:`state_dict` must exactly match the keys returned\u001b[39;00m\n\u001b[0;32m   (...)\u001b[0m\n\u001b[1;32m   2093\u001b[0m \u001b[38;5;124;03m    ``RuntimeError``.\u001b[39;00m\n\u001b[1;32m   2094\u001b[0m \u001b[38;5;124;03m\"\"\"\u001b[39;00m\n\u001b[1;32m   2095\u001b[0m \u001b[38;5;28;01mif\u001b[39;00m \u001b[38;5;129;01mnot\u001b[39;00m \u001b[38;5;28misinstance\u001b[39m(state_dict, Mapping):\n\u001b[0;32m-> 2096\u001b[0m     \u001b[38;5;28;01mraise\u001b[39;00m \u001b[38;5;167;01mTypeError\u001b[39;00m(\u001b[38;5;124mf\u001b[39m\u001b[38;5;124m\"\u001b[39m\u001b[38;5;124mExpected state_dict to be dict-like, got \u001b[39m\u001b[38;5;132;01m{\u001b[39;00m\u001b[38;5;28mtype\u001b[39m(state_dict)\u001b[38;5;132;01m}\u001b[39;00m\u001b[38;5;124m.\u001b[39m\u001b[38;5;124m\"\u001b[39m)\n\u001b[1;32m   2098\u001b[0m missing_keys: List[\u001b[38;5;28mstr\u001b[39m] \u001b[38;5;241m=\u001b[39m []\n\u001b[1;32m   2099\u001b[0m unexpected_keys: List[\u001b[38;5;28mstr\u001b[39m] \u001b[38;5;241m=\u001b[39m []\n",
            "\u001b[0;31mTypeError\u001b[0m: Expected state_dict to be dict-like, got <class '__main__.Classifier'>."
          ]
        }
      ],
      "source": [
        "#Choose best epoch of the trained model\n",
        "  #Run this if you have not actively trained a model now, but already have a model file stored somewhere:\n",
        "  #Create an instance of model\n",
        "  #model = Classifier(hp=hparams)\n",
        "\n",
        "# Specify the epoch to load (e.g., for epoch 3)\n",
        "epoch_to_load = 3\n",
        "model_state_dict = torch.load(f'model_epoch_{epoch_to_load}.pth')\n",
        "\n",
        "# Load the model's state_dict\n",
        "model.load_state_dict(model_state_dict)\n",
        "\n",
        "model.to(device)\n",
        "# Now, model contains the parameters from the desired epoch"
      ]
    },
    {
      "cell_type": "code",
      "execution_count": null,
      "metadata": {
        "id": "-B9vqt0gfTJi"
      },
      "outputs": [],
      "source": [
        "# Save model\n",
        "torch.save(model, 'model_2016_final.pth')"
      ]
    },
    {
      "cell_type": "code",
      "execution_count": null,
      "metadata": {
        "id": "77Nnc3BmfTJi"
      },
      "outputs": [],
      "source": [
        "#Reload model if needed, specifiy correct model file name!\n",
        "model = torch.load('model_2018_final.pth')"
      ]
    },
    {
      "cell_type": "markdown",
      "metadata": {
        "id": "EZF2xxdRfTJi"
      },
      "source": [
        "# Testing the Model"
      ]
    },
    {
      "cell_type": "code",
      "execution_count": null,
      "metadata": {
        "id": "AApdrbucfTJi"
      },
      "outputs": [],
      "source": [
        "def evaluate_model(model, test_dataloader, hp= None):\n",
        "    model.eval()\n",
        "    correct_predictions = 0\n",
        "    total_samples = 0\n",
        "\n",
        "    with torch.no_grad():\n",
        "        for embedding, label in test_dataloader:\n",
        "            embedding = embedding.to(device)\n",
        "            label = label.to(device)\n",
        "\n",
        "            # Forward pass\n",
        "            prediction = model(embedding)\n",
        "            predicted_label = torch.argmax(prediction, dim=1)\n",
        "\n",
        "            # Count correct predictions\n",
        "            correct_predictions += (predicted_label == label).sum().item()\n",
        "            total_samples += label.size(0)\n",
        "\n",
        "    accuracy = correct_predictions / total_samples\n",
        "    return accuracy"
      ]
    },
    {
      "cell_type": "code",
      "execution_count": null,
      "metadata": {
        "id": "h4LAqvqCfTJi",
        "outputId": "1e5fe794-e6a1-4933-d1f2-8493ef534dbf"
      },
      "outputs": [
        {
          "name": "stdout",
          "output_type": "stream",
          "text": [
            "Test Accuracy: 0.2900\n"
          ]
        }
      ],
      "source": [
        "test_accuracy = evaluate_model(model, test_dataloader, hp=hparams)\n",
        "print(f\"Test Accuracy: {test_accuracy:.4f}\")"
      ]
    },
    {
      "cell_type": "code",
      "execution_count": null,
      "metadata": {
        "id": "dxgfs1ZWfTJi"
      },
      "outputs": [],
      "source": [
        "def evaluate_model_per_class(model, test_dataloader, hp= hparams):\n",
        "    model.eval()\n",
        "    correct_per_class = [0] * hp[\"num_classes\"]\n",
        "    total_per_class = [0] * hp[\"num_classes\"]\n",
        "    all_predicted_labels = []\n",
        "    all_true_labels = []\n",
        "\n",
        "    with torch.no_grad():\n",
        "        for embedding, label in test_dataloader:\n",
        "            embedding = embedding.to(device)\n",
        "            label = label.to(device)\n",
        "\n",
        "            # Forward pass\n",
        "            prediction = model(embedding)\n",
        "            predicted_label = torch.argmax(prediction, dim=1)\n",
        "\n",
        "            # Update per-class counts\n",
        "            for i in range(hp[\"num_classes\"]):\n",
        "                correct_per_class[i] += ((predicted_label == i) & (label == i)).sum().item()\n",
        "                total_per_class[i] += (label == i).sum().item()\n",
        "\n",
        "            # Append predicted and true labels to lists\n",
        "            all_predicted_labels.extend(predicted_label.cpu().numpy())\n",
        "            all_true_labels.extend(label.cpu().numpy())\n",
        "\n",
        "    accuracy_per_class = [correct / total if total > 0 else 0 for correct, total in zip(correct_per_class, total_per_class)]\n",
        "    return accuracy_per_class, all_predicted_labels, all_true_labels\n"
      ]
    },
    {
      "cell_type": "code",
      "execution_count": null,
      "metadata": {
        "id": "db4pHiocfTJi"
      },
      "outputs": [],
      "source": [
        "accuracy_per_class, all_predicted_labels, all_true_labels = evaluate_model_per_class(model, test_dataloader, hp= hparams)"
      ]
    },
    {
      "cell_type": "code",
      "execution_count": null,
      "metadata": {
        "id": "Y3ideLDtfTJj",
        "outputId": "ede56ca7-41f9-45dd-9216-e1d886adf4f9"
      },
      "outputs": [
        {
          "name": "stdout",
          "output_type": "stream",
          "text": [
            "Accuracy for Class SPD: 0.1043\n",
            "Accuracy for Class CDU/CSU: 0.3416\n",
            "Accuracy for Class AfD: 0.3614\n",
            "Accuracy for Class DIE LINKE: 0.2849\n",
            "Accuracy for Class FDP: 0.2184\n",
            "Accuracy for Class GRUENE: 0.4395\n"
          ]
        }
      ],
      "source": [
        "# Define the party_to_labels dictionary\n",
        "#Adapt the dictionary according to the years!\n",
        "party_to_labels =  {'SPD': 0, 'CDU/CSU': 1, 'AfD': 2, 'DIE LINKE': 3, 'FDP': 4, 'GRUENE': 5} #2018\n",
        "\n",
        "#{'CDU/CSU': 0, 'SPD': 1, 'DIE LINKE': 2, 'FDP': 3, 'GRUENE': 4} #2012\n",
        "#{'CDU/CSU': 0, 'DIE LINKE': 1, 'GRUENE': 2, 'SPD': 3} #2014\n",
        "#{'CDU/CSU': 0, 'DIE LINKE': 1, 'SPD': 2, 'GRUENE': 3} #2016\n",
        "#{'SPD': 0, 'AfD': 1, 'CDU/CSU': 2, 'FDP': 3, 'DIE LINKE': 4, 'GRUENE': 5} #2020\n",
        "\n",
        "# Print accuracies for each class\n",
        "for class_idx, accuracy in enumerate(accuracy_per_class):\n",
        "    # Find the label for the current class index\n",
        "    label = None\n",
        "    for party, idx in party_to_labels.items():\n",
        "        if idx == class_idx:\n",
        "            label = party\n",
        "            break\n",
        "\n",
        "    if label is not None:\n",
        "        print(f\"Accuracy for Class {label}: {accuracy:.4f}\")\n",
        "    else:\n",
        "        print(f\"Accuracy for Class {class_idx}: {accuracy:.4f}\")\n"
      ]
    },
    {
      "cell_type": "code",
      "execution_count": null,
      "metadata": {
        "id": "RG1tKiYtfTJj",
        "outputId": "767c5e78-3459-4d4f-cfce-46fbbffe3b42"
      },
      "outputs": [
        {
          "name": "stdout",
          "output_type": "stream",
          "text": [
            "Confusion Matrix:\n",
            "[[0.10429448 0.3006135  0.0797546  0.14723926 0.14110429 0.22699387]\n",
            " [0.08074534 0.34161491 0.13664596 0.08074534 0.13664596 0.22360248]\n",
            " [0.05421687 0.10843373 0.36144578 0.1626506  0.14457831 0.1686747 ]\n",
            " [0.05027933 0.10614525 0.17318436 0.2849162  0.10614525 0.27932961]\n",
            " [0.05747126 0.21264368 0.14367816 0.12068966 0.2183908  0.24712644]\n",
            " [0.06369427 0.10191083 0.12101911 0.12738854 0.14649682 0.43949045]]\n"
          ]
        }
      ],
      "source": [
        "# Use predictions and true labels from above\n",
        "predictions = np.array(all_predicted_labels)\n",
        "true_labels = np.array(all_true_labels)\n",
        "\n",
        "# Calculate the confusion matrix\n",
        "conf_matrix = confusion_matrix(true_labels, predictions, normalize='true')\n",
        "\n",
        "print(\"Confusion Matrix:\")\n",
        "print(conf_matrix)\n"
      ]
    },
    {
      "cell_type": "code",
      "execution_count": null,
      "metadata": {
        "id": "NA29xpYLfTJj",
        "outputId": "7cde720f-7e53-45da-e931-4e25deaa213a"
      },
      "outputs": [
        {
          "data": {
            "image/png": "[encoded data removed]",
            "text/plain": [
              "<Figure size 800x800 with 1 Axes>"
            ]
          },
          "metadata": {},
          "output_type": "display_data"
        }
      ],
      "source": [
        "# Create a heatmap of the confusion matrix\n",
        "class_labels = [party for party, label in sorted(party_to_labels.items(), key=lambda x: x[1])]\n",
        "\n",
        "plt.figure(figsize=(8, 8))\n",
        "sns.heatmap(conf_matrix, annot=True, cmap='Greens', cbar=False, xticklabels=class_labels, yticklabels=class_labels)\n",
        "plt.xlabel('Predicted Labels')\n",
        "plt.ylabel('True Labels')\n",
        "plt.title('Confusion Matrix')\n",
        "plt.show()\n"
      ]
    },
    {
      "cell_type": "code",
      "execution_count": null,
      "metadata": {
        "id": "hpGAPMn2fTJk",
        "outputId": "096cb159-2ede-4ca1-db03-cad8325818d6"
      },
      "outputs": [
        {
          "name": "stdout",
          "output_type": "stream",
          "text": [
            "Precision: 0.2891\n",
            "Recall: 0.2900\n",
            "F1 Score: 0.2802\n"
          ]
        }
      ],
      "source": [
        "# Calculate precision, recall, and F1 score\n",
        "precision = precision_score(true_labels, predictions, average='weighted')\n",
        "recall = recall_score(true_labels, predictions, average='weighted')\n",
        "f1 = f1_score(true_labels, predictions, average='weighted')\n",
        "\n",
        "print(f'Precision: {precision:.4f}')\n",
        "print(f'Recall: {recall:.4f}')\n",
        "print(f'F1 Score: {f1:.4f}')"
      ]
    }
  ],
  "metadata": {
    "colab": {
      "gpuType": "T4",
      "provenance": [],
      "collapsed_sections": [
        "Pih8MN7zfTJc",
        "cXkFMJ7BSEy8",
        "EmZAC2x7TQwL",
        "AZU3nI6oS2L1",
        "rJs-ILRDyx6w",
        "EZF2xxdRfTJi"
      ],
      "include_colab_link": true
    },
    "kernelspec": {
      "display_name": "Python 3 (ipykernel)",
      "language": "python",
      "name": "python3"
    },
    "language_info": {
      "codemirror_mode": {
        "name": "ipython",
        "version": 3
      },
      "file_extension": ".py",
      "mimetype": "text/x-python",
      "name": "python",
      "nbconvert_exporter": "python",
      "pygments_lexer": "ipython3",
      "version": "3.8.17"
    }
  },
  "nbformat": 4,
  "nbformat_minor": 0
}