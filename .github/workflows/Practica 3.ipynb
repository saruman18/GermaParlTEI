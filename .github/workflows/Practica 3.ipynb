{
 "cells": [
  {
   "cell_type": "code",
   "execution_count": 2,
   "metadata": {},
   "outputs": [
    {
     "name": "stdout",
     "output_type": "stream",
     "text": [
      "hello\n"
     ]
    }
   ],
   "source": [
    "print(\"hello\")"
   ]
  },
  {
   "cell_type": "code",
   "execution_count": 1,
   "metadata": {},
   "outputs": [
    {
     "name": "stdout",
     "output_type": "stream",
     "text": [
      "hola\n"
     ]
    }
   ],
   "source": [
    "print('hola')"
   ]
  },
  {
   "cell_type": "code",
   "execution_count": 5,
   "metadata": {},
   "outputs": [
    {
     "name": "stdout",
     "output_type": "stream",
     "text": [
      "    AgendaItem Number      What              Description  \\\n",
      "0  Agenda Item      2  election  Wahl des Bundeskanzlers   \n",
      "\n",
      "                 Speaker Party  \n",
      "0  Präsident Dr. Köhler:  None  \n"
     ]
    }
   ],
   "source": [
    "import pandas as pd\n",
    "import xml.etree.ElementTree as ET\n",
    "\n",
    "# Path to your XML file\n",
    "xml_file = r'C:\\Users\\santi\\Downloads\\BT_01_003.xml'\n",
    "\n",
    "# Initialize empty lists for each tag\n",
    "agenda_items = []\n",
    "numbers = []\n",
    "whats = []\n",
    "descriptions = []\n",
    "speakers = []\n",
    "parties = []\n",
    "\n",
    "# Parse the XML file\n",
    "tree = ET.parse(xml_file)\n",
    "root = tree.getroot()\n",
    "\n",
    "# Iterate over the XML elements\n",
    "for div in root.iter('div'):\n",
    "    if div.attrib.get('type') == 'agenda_item':\n",
    "        agenda_items.append(\"Agenda Item\")\n",
    "        numbers.append(div.attrib.get('n'))\n",
    "        whats.append(div.attrib.get('what'))\n",
    "        descriptions.append(div.attrib.get('desc'))\n",
    "\n",
    "        # Example: Accessing nested elements within the <div> tag\n",
    "        speaker = div.find('sp/speaker')\n",
    "        if speaker is not None:\n",
    "            speakers.append(speaker.text)\n",
    "        else:\n",
    "            speakers.append(None)\n",
    "\n",
    "        party = div.find('sp/party')\n",
    "        if party is not None:\n",
    "            parties.append(party.text)\n",
    "        else:\n",
    "            parties.append(None)\n",
    "\n",
    "# Create a dataframe from the lists\n",
    "data = {\n",
    "    'AgendaItem': agenda_items,\n",
    "    'Number': numbers,\n",
    "    'What': whats,\n",
    "    'Description': descriptions,\n",
    "    'Speaker': speakers,\n",
    "    'Party': parties\n",
    "}\n",
    "df = pd.DataFrame(data)\n",
    "\n",
    "# Print the resulting dataframe\n",
    "print(df)\n"
   ]
  },
  {
   "cell_type": "code",
   "execution_count": null,
   "metadata": {},
   "outputs": [],
   "source": []
  }
 ],
 "metadata": {
  "kernelspec": {
   "display_name": "base",
   "language": "python",
   "name": "python3"
  },
  "language_info": {
   "codemirror_mode": {
    "name": "ipython",
    "version": 3
   },
   "file_extension": ".py",
   "mimetype": "text/x-python",
   "name": "python",
   "nbconvert_exporter": "python",
   "pygments_lexer": "ipython3",
   "version": "3.10.9"
  },
  "orig_nbformat": 4
 },
 "nbformat": 4,
 "nbformat_minor": 2
}
